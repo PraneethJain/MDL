{
 "cells": [
  {
   "cell_type": "code",
   "execution_count": 9,
   "metadata": {},
   "outputs": [],
   "source": [
    "import pickle\n",
    "import numpy as np\n",
    "import seaborn as sns\n",
    "from sklearn.preprocessing import PolynomialFeatures\n",
    "from sklearn.linear_model import LinearRegression\n",
    "from random import shuffle, randint"
   ]
  },
  {
   "cell_type": "code",
   "execution_count": 17,
   "metadata": {},
   "outputs": [],
   "source": [
    "# 3.1\n",
    "\n",
    "with open(\"data.pickle\", \"rb\") as f:\n",
    "    dataset = pickle.load(f)\n",
    "\n",
    "x_test, y_test = dataset[\"test\"][:, 0], dataset[\"test\"][:, 1]\n",
    "\n",
    "x_trains = [[] for _ in range(15)]\n",
    "y_trains = [[] for _ in range(15)]\n",
    "\n",
    "for x, y in dataset[\"train\"]:\n",
    "    i = 0\n",
    "    while len(x_trains[i]) >= 500:\n",
    "        i = randint(0, 14)\n",
    "    x_trains[i].append(x)\n",
    "    y_trains[i].append(y)\n",
    "    \n",
    "x_trains = np.array([np.array(x) for x in x_trains])\n",
    "y_trains = np.array([np.array(y) for y in y_trains])\n",
    "\n",
    "# shuffle(dataset[\"train\"])\n",
    "# x_train_big = dataset[\"train\"][:, 0]\n",
    "# y_train_big = dataset[\"train\"][:, 1]\n",
    "# x_trains = np.array([x_train_big[i : i + x_train_big.size // 15] for i in range(15)])\n",
    "# y_trains = np.array([y_train_big[i : i + y_train_big.size // 15] for i in range(15)])"
   ]
  },
  {
   "cell_type": "code",
   "execution_count": 19,
   "metadata": {},
   "outputs": [
    {
     "name": "stdout",
     "output_type": "stream",
     "text": [
      "1 {'bias': 0.2348950581196144, 'bias_square': 1.0056529299580075, 'variance': 0.040383184050351364, 'mse': 1.0460361140083592}\n",
      "2 {'bias': 0.22777052306011686, 'bias_square': 0.9488534301457427, 'variance': 0.06555692228766119, 'mse': 1.0144103524334036}\n",
      "3 {'bias': -0.01673441541641696, 'bias_square': 0.01448267047015755, 'variance': 0.10833395495105291, 'mse': 0.12281662542121045}\n",
      "4 {'bias': -0.006987791203755656, 'bias_square': 0.013932268143883902, 'variance': 0.13270563326331075, 'mse': 0.14663790140719463}\n",
      "5 {'bias': -0.0022852297941181377, 'bias_square': 0.013426839106830934, 'variance': 0.19756268240527056, 'mse': 0.21098952151210143}\n",
      "6 {'bias': -0.0016245279483470653, 'bias_square': 0.013022189360444674, 'variance': 0.23463214347379044, 'mse': 0.24765433283423524}\n",
      "7 {'bias': -0.002266521268971533, 'bias_square': 0.014106139817025947, 'variance': 0.25643662932758343, 'mse': 0.27054276914460945}\n",
      "8 {'bias': 0.016409699062841576, 'bias_square': 0.026449352647181058, 'variance': 0.241850214178009, 'mse': 0.26829956682519013}\n",
      "9 {'bias': 0.04770432433722194, 'bias_square': 0.09925423662359795, 'variance': 0.22098189447401956, 'mse': 0.3202361310976177}\n",
      "10 {'bias': 0.0762540065861147, 'bias_square': 0.2648094375759217, 'variance': 0.20775040486866225, 'mse': 0.47255984244458415}\n"
     ]
    }
   ],
   "source": [
    "# 3.2\n",
    "\n",
    "averages = {}\n",
    "for degree in range(1, 11):\n",
    "    polynomial = PolynomialFeatures(degree)\n",
    "    res = []\n",
    "\n",
    "    for x_train, y_train in zip(x_trains, y_trains):\n",
    "        model = LinearRegression()\n",
    "        model.fit(polynomial.fit_transform(x_train.reshape(-1, 1)), y_train)\n",
    "        res.append(model.predict(polynomial.fit_transform(x_test.reshape(-1, 1))))\n",
    "\n",
    "    variance = np.var(res, axis=0)\n",
    "    square = np.vectorize(lambda x: x**2)\n",
    "    bias = y_test - np.mean(res, axis=0)\n",
    "    bias_square = square(bias)\n",
    "    mse = np.mean(square([y_test - y_pred for y_pred in res]), axis=0)\n",
    "\n",
    "    averages[degree] = {\n",
    "        \"bias\": np.mean(bias),\n",
    "        \"bias_square\": np.mean(bias_square),\n",
    "        \"variance\": np.mean(variance),\n",
    "        \"mse\": np.mean(mse),\n",
    "    }\n",
    "\n",
    "    print(degree, averages[degree])"
   ]
  },
  {
   "cell_type": "code",
   "execution_count": 20,
   "metadata": {},
   "outputs": [
    {
     "name": "stdout",
     "output_type": "stream",
     "text": [
      "1 0.0\n",
      "2 -0.0\n",
      "3 -0.0\n",
      "4 -0.0\n",
      "5 -0.0\n",
      "6 0.0\n",
      "7 0.0\n",
      "8 0.0\n",
      "9 0.0\n",
      "10 0.0\n"
     ]
    }
   ],
   "source": [
    "# 4\n",
    "\n",
    "for degree, average in averages.items():\n",
    "    irreducible_error = average[\"mse\"] - average[\"variance\"] - average[\"bias_square\"]\n",
    "    print(degree, round(irreducible_error, 5))"
   ]
  },
  {
   "cell_type": "code",
   "execution_count": 23,
   "metadata": {},
   "outputs": [
    {
     "data": {
      "text/plain": [
       "<Axes: >"
      ]
     },
     "execution_count": 23,
     "metadata": {},
     "output_type": "execute_result"
    },
    {
     "data": {
      "image/png": "[encoded data removed]",
      "text/plain": [
       "<Figure size 640x480 with 1 Axes>"
      ]
     },
     "metadata": {},
     "output_type": "display_data"
    }
   ],
   "source": [
    "sns.lineplot(x=range(1,11), y=map(lambda x:x[\"variance\"], averages.values()))\n",
    "sns.lineplot(x=range(1,11), y=map(lambda x:x[\"mse\"], averages.values()))\n",
    "sns.lineplot(x=range(1,11), y=map(lambda x:x[\"bias_square\"], averages.values()))"
   ]
  }
 ],
 "metadata": {
  "kernelspec": {
   "display_name": "venv",
   "language": "python",
   "name": "python3"
  },
  "language_info": {
   "codemirror_mode": {
    "name": "ipython",
    "version": 3
   },
   "file_extension": ".py",
   "mimetype": "text/x-python",
   "name": "python",
   "nbconvert_exporter": "python",
   "pygments_lexer": "ipython3",
   "version": "3.11.7"
  }
 },
 "nbformat": 4,
 "nbformat_minor": 2
}
