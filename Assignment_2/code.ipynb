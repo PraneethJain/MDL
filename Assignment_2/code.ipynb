{
 "cells": [
  {
   "cell_type": "code",
   "execution_count": 319,
   "metadata": {},
   "outputs": [],
   "source": [
    "import pickle\n",
    "import numpy as np\n",
    "from sklearn.preprocessing import PolynomialFeatures\n",
    "from sklearn.linear_model import LinearRegression\n",
    "from random import shuffle"
   ]
  },
  {
   "cell_type": "code",
   "execution_count": 321,
   "metadata": {},
   "outputs": [],
   "source": [
    "with open(\"data.pickle\", \"rb\") as f:\n",
    "    dataset = pickle.load(f)\n",
    "\n",
    "x_test, y_test = dataset[\"test\"][:, 0], dataset[\"test\"][:, 1]\n",
    "\n",
    "shuffle(dataset[\"train\"])\n",
    "x_train_big = dataset[\"train\"][:, 0]\n",
    "y_train_big = dataset[\"train\"][:, 1]\n",
    "x_trains = np.array([x_train_big[i : i + x_train_big.size // 15] for i in range(15)])\n",
    "y_trains = np.array([y_train_big[i : i + y_train_big.size // 15] for i in range(15)])"
   ]
  },
  {
   "cell_type": "code",
   "execution_count": 353,
   "metadata": {},
   "outputs": [
    {
     "name": "stdout",
     "output_type": "stream",
     "text": [
      "1.164630571268875 1.1646305712688751\n",
      "1.0800678556447831 1.080067855644783\n",
      "0.2496278089928526 0.2496278089928527\n",
      "0.40850040621019856 0.40850040621019834\n",
      "0.4497713891123903 0.4497713891123908\n",
      "0.5033103970313434 0.5033103970313433\n",
      "0.5545730007143946 0.5545730007143961\n",
      "0.4655449092011339 0.465544909201134\n",
      "0.35793042507822476 0.3579304250782255\n",
      "0.49213835872229306 0.4921383587222934\n"
     ]
    }
   ],
   "source": [
    "for degree in range(1, 11):\n",
    "    polynomial = PolynomialFeatures(degree)\n",
    "    res = []\n",
    "\n",
    "    for x_train, y_train in zip(x_trains, y_trains):\n",
    "        model = LinearRegression()\n",
    "        model.fit(polynomial.fit_transform(x_train.reshape(-1, 1)), y_train)\n",
    "        res.append(model.predict(polynomial.fit_transform(x_test.reshape(-1, 1))))\n",
    "\n",
    "    variance = np.var(res, axis=0)\n",
    "    square = np.vectorize(lambda x: x**2)\n",
    "    bias = y_test - np.mean(res, axis=0)\n",
    "    bias_square = square(bias)\n",
    "    mse = np.mean(square([y_test - y_pred for y_pred in res]), axis=0)\n",
    "\n",
    "    average = {\n",
    "        \"bias\": np.mean(bias),\n",
    "        \"bias_square\": np.mean(bias_square),\n",
    "        \"variance\": np.mean(variance),\n",
    "        \"mse\": np.mean(mse),\n",
    "    }\n",
    "    \n",
    "    print(average[\"variance\"] + average[\"bias_square\"], average[\"mse\"])"
   ]
  }
 ],
 "metadata": {
  "kernelspec": {
   "display_name": "venv",
   "language": "python",
   "name": "python3"
  },
  "language_info": {
   "codemirror_mode": {
    "name": "ipython",
    "version": 3
   },
   "file_extension": ".py",
   "mimetype": "text/x-python",
   "name": "python",
   "nbconvert_exporter": "python",
   "pygments_lexer": "ipython3",
   "version": "3.11.7"
  }
 },
 "nbformat": 4,
 "nbformat_minor": 2
}
